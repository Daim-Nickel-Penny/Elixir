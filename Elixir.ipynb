{
  "nbformat": 4,
  "nbformat_minor": 0,
  "metadata": {
    "colab": {
      "name": "Elixir.ipynb",
      "provenance": [],
      "collapsed_sections": [],
      "authorship_tag": "ABX9TyP7RxDHWA4rEdmTKLf1LE5Q"
    },
    "kernelspec": {
      "name": "python3",
      "display_name": "Python 3"
    },
    "language_info": {
      "name": "python"
    }
  },
  "cells": [
    {
      "cell_type": "code",
      "metadata": {
        "id": "d1ThCE8ID7X-"
      },
      "source": [
        "import numpy as np\n",
        "from bs4 import BeautifulSoup \n",
        "import requests \n",
        "import time"
      ],
      "execution_count": null,
      "outputs": []
    },
    {
      "cell_type": "code",
      "metadata": {
        "id": "SfWOizBxEIi4"
      },
      "source": [
        "def currentPrice(coin):\n",
        "    url = \"https://www.google.com/search?q=\"+coin+\"+price\"\n",
        "    HTML = requests.get(url) \n",
        "    soup = BeautifulSoup(HTML.text, 'html.parser') \n",
        "    text = soup.find(\"div\", attrs={'class':'BNeawe iBp4i AP7Wnd'}).find(\"div\", attrs={'class':'BNeawe iBp4i AP7Wnd'}).text\n",
        "    return text"
      ],
      "execution_count": null,
      "outputs": []
    },
    {
      "cell_type": "code",
      "metadata": {
        "id": "xyPek2ZtEl63"
      },
      "source": [
        "def main1():\n",
        "  last_price = -1\n",
        "\n",
        "  while True:\n",
        "    crypto = 'bitcoin' \n",
        "    price = currentPrice(crypto)\n",
        "    if price != last_price:\n",
        "      print(crypto+' price: ',price) \n",
        "      last_price = price \n",
        "    time.sleep(3) "
      ],
      "execution_count": 18,
      "outputs": []
    },
    {
      "cell_type": "code",
      "metadata": {
        "colab": {
          "base_uri": "https://localhost:8080/",
          "height": 270
        },
        "id": "fXPHWb-nEzwJ",
        "outputId": "e67a93ff-c5eb-4264-9b95-b5c1c7a7165c"
      },
      "source": [
        "main1()"
      ],
      "execution_count": 19,
      "outputs": [
        {
          "output_type": "stream",
          "text": [
            "bitcoin price:  55,717.70 United States Dollar\n"
          ],
          "name": "stdout"
        },
        {
          "output_type": "error",
          "ename": "KeyboardInterrupt",
          "evalue": "ignored",
          "traceback": [
            "\u001b[0;31m---------------------------------------------------------------------------\u001b[0m",
            "\u001b[0;31mKeyboardInterrupt\u001b[0m                         Traceback (most recent call last)",
            "\u001b[0;32m<ipython-input-19-6657c6365cf0>\u001b[0m in \u001b[0;36m<module>\u001b[0;34m()\u001b[0m\n\u001b[0;32m----> 1\u001b[0;31m \u001b[0mmain1\u001b[0m\u001b[0;34m(\u001b[0m\u001b[0;34m)\u001b[0m\u001b[0;34m\u001b[0m\u001b[0;34m\u001b[0m\u001b[0m\n\u001b[0m",
            "\u001b[0;32m<ipython-input-18-af6d296e9850>\u001b[0m in \u001b[0;36mmain1\u001b[0;34m()\u001b[0m\n\u001b[1;32m      8\u001b[0m       \u001b[0mprint\u001b[0m\u001b[0;34m(\u001b[0m\u001b[0mcrypto\u001b[0m\u001b[0;34m+\u001b[0m\u001b[0;34m' price: '\u001b[0m\u001b[0;34m,\u001b[0m\u001b[0mprice\u001b[0m\u001b[0;34m)\u001b[0m\u001b[0;34m\u001b[0m\u001b[0;34m\u001b[0m\u001b[0m\n\u001b[1;32m      9\u001b[0m       \u001b[0mlast_price\u001b[0m \u001b[0;34m=\u001b[0m \u001b[0mprice\u001b[0m\u001b[0;34m\u001b[0m\u001b[0;34m\u001b[0m\u001b[0m\n\u001b[0;32m---> 10\u001b[0;31m     \u001b[0mtime\u001b[0m\u001b[0;34m.\u001b[0m\u001b[0msleep\u001b[0m\u001b[0;34m(\u001b[0m\u001b[0;36m3\u001b[0m\u001b[0;34m)\u001b[0m\u001b[0;34m\u001b[0m\u001b[0;34m\u001b[0m\u001b[0m\n\u001b[0m",
            "\u001b[0;31mKeyboardInterrupt\u001b[0m: "
          ]
        }
      ]
    },
    {
      "cell_type": "code",
      "metadata": {
        "id": "OjmLkagtFNYL"
      },
      "source": [
        "def main2():\n",
        "  last_price = -1\n",
        "\n",
        "  while True:\n",
        "    crypto = 'ethereum' \n",
        "    price = currentPrice(crypto)\n",
        "    if price != last_price:\n",
        "      print(crypto+' price: ',price) \n",
        "      last_price = price \n",
        "    time.sleep(3) "
      ],
      "execution_count": 21,
      "outputs": []
    },
    {
      "cell_type": "code",
      "metadata": {
        "colab": {
          "base_uri": "https://localhost:8080/"
        },
        "id": "tXDUzfl5I2o7",
        "outputId": "2960f403-328d-4de9-9fb7-b26701f8e47d"
      },
      "source": [
        "main2()"
      ],
      "execution_count": null,
      "outputs": [
        {
          "output_type": "stream",
          "text": [
            "ethereum price:  1,704.01 United States Dollar\n",
            "ethereum price:  1,707.11 United States Dollar\n"
          ],
          "name": "stdout"
        }
      ]
    },
    {
      "cell_type": "code",
      "metadata": {
        "id": "TkawtFhtI_6o"
      },
      "source": [
        "def main3():\n",
        "  last_price = -1\n",
        "\n",
        "  while True:\n",
        "    crypto = 'dogecoin' \n",
        "    price = currentPrice(crypto)\n",
        "    if price != last_price:\n",
        "      print(crypto+' price: ',price) \n",
        "      last_price = price \n",
        "    time.sleep(3) "
      ],
      "execution_count": 26,
      "outputs": []
    }
  ]
}